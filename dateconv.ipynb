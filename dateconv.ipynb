{
 "cells": [
  {
   "cell_type": "markdown",
   "id": "c82b8f31",
   "metadata": {},
   "source": [
    "***GENERATED CODE FOR dateconv PIPELINE.***"
   ]
  },
  {
   "cell_type": "markdown",
   "id": "82988cfd",
   "metadata": {},
   "source": [
    "***DON'T EDIT THIS CODE.***"
   ]
  },
  {
   "cell_type": "markdown",
   "id": "5f1a564a",
   "metadata": {},
   "source": [
    "***CONNECTOR FUNCTIONS TO READ DATA.***"
   ]
  },
  {
   "cell_type": "code",
   "execution_count": null,
   "id": "d410c06d",
   "metadata": {},
   "outputs": [],
   "source": [
    "import os\n",
    "import datetime\n",
    "import logging\n",
    "import warnings\n",
    "warnings.filterwarnings('ignore')\n",
    "logging.basicConfig(format='%(levelname)s:%(message)s', level=logging.INFO)\n",
    "\n",
    "\n",
    "class HDFSConnector:\n",
    "\n",
    "    def fetch(spark, config):\n",
    "        ################### INPUT HADOOP HOST PORT TO CONNECT WITH ###############################\n",
    "        hdfs_server = str(os.environ['HDFS_SERVER'])\n",
    "        hdfs_port = int(os.environ['HDFS_PORT'])\n",
    "        df = spark.read.options(header='true', inferschema='true').csv(\n",
    "            f\"hdfs://{hdfs_server}:{hdfs_port}{eval(config)['url']}\", header='true')\n",
    "        display(df.limit(2).toPandas())\n",
    "        return df\n",
    "\n",
    "    def put(df, spark, config):\n",
    "        return df.write.format('csv').options(header='true' if eval(config)[\"is_header\"] == \"Use Header Line\" else 'false',\n",
    "                                              delimiter=eval(config)[\"delimiter\"]).save((\"%s %s\") % (datetime.datetime.now().strftime(\"%Y-%m-%d %H.%M.%S\")+\"_\", eval(config)['url']))\n"
   ]
  },
  {
   "cell_type": "markdown",
   "id": "795bed85",
   "metadata": {},
   "source": [
    "***OPERATION FUNCTIONS***"
   ]
  },
  {
   "cell_type": "code",
   "execution_count": null,
   "id": "4805b42a",
   "metadata": {},
   "outputs": [],
   "source": [
    "import pyspark\n",
    "from dask.dataframe import from_pandas\n",
    "import json\n",
    "\n",
    "\n",
    "def DateTransform(df, functionsData, applyOn=[]):\n",
    "    import dask.dataframe as dd\n",
    "    import pandas as pd\n",
    "    import numpy as np\n",
    "\n",
    "    for functiondata in functionsData:\n",
    "        functiondata = functiondata\n",
    "\n",
    "    dfcp = df\n",
    "    dfcp1 = dfcp\n",
    "    resulttype = dfcp1.select_dtypes(include=[np.datetime64])\n",
    "    for existingdatecols in resulttype.columns:\n",
    "        dfcp[existingdatecols] = dfcp[existingdatecols].apply(\n",
    "            lambda x: x.replace(tzinfo=None))\n",
    "\n",
    "    Dateformat1 = 'YYYY-DD-MM'\n",
    "    Dateformat2 = 'YY/MM/DD'\n",
    "    Dateformat3 = 'DD/MM/YYYY'\n",
    "    Dateformat4 = 'M/D/YY'\n",
    "    NotDateFromat = [Dateformat1, Dateformat2, Dateformat3, Dateformat4]\n",
    "\n",
    "    if 'inputDateFormat' in functiondata:\n",
    "        coldetail = functiondata['column']\n",
    "        for col in coldetail:\n",
    "            colname = col['columnName']\n",
    "        inputFormat = str(functiondata['inputDateFormat'])\n",
    "        functiondata['outputDateFormat']\n",
    "        functiondata['newColumn']\n",
    "    if ('newColumnName' in functiondata):\n",
    "        if inputFormat in NotDateFromat:\n",
    "            NewDateCol = functiondata['newColumnName']\n",
    "            dfcp = dfcp.compute()\n",
    "            dfcp[NewDateCol] = dfcp[colname].apply(\n",
    "                lambda x: pd.to_datetime(x, format='%d/%m/%Y', utc=False))\n",
    "            dfcp[NewDateCol] = dfcp[NewDateCol].apply(\n",
    "                lambda x: x.strftime(\"%Y-%m-%d\"))\n",
    "            dfcp[NewDateCol] = pd.to_datetime(dfcp[NewDateCol], utc=False)\n",
    "            dfcp = dd.from_pandas(dfcp, npartitions=2)\n",
    "            dfcp[NewDateCol] = dfcp[NewDateCol].apply(\n",
    "                lambda x: x.replace(tzinfo=None))\n",
    "    elif (('newColumnName' not in functiondata) and (inputFormat in NotDateFromat)):\n",
    "        dfcp = dfcp.compute()\n",
    "        dfcp[colname] = dfcp[colname].apply(\n",
    "            lambda x: pd.to_datetime(x, format='%d/%m/%Y'))\n",
    "        dfcp[colname] = dfcp[colname].apply(lambda x: x.strftime(\"%Y-%m-%d\"))\n",
    "        dfcp[colname] = pd.to_datetime(dfcp[colname], utc=False)\n",
    "        dfcp = dd.from_pandas(dfcp, npartitions=2)\n",
    "\n",
    "    return dfcp\n",
    "\n",
    "\n",
    "def runDataCleansing(sparkDf, spark, config):\n",
    "    configObj = json.loads(config)\n",
    "    sparkDf.persist(pyspark.StorageLevel.MEMORY_AND_DISK)\n",
    "    df = from_pandas((sparkDf.toPandas()), npartitions=5)\n",
    "    functionList = configObj['functionsApplied']\n",
    "    Data_Cleansing_Methods = {\"replaceBy\": replaceValues,\n",
    "                              \"formula\": calculateFormula,\n",
    "                              \"aggregate\": aggregation,\n",
    "                              \"converttostringtype\": changeToString,\n",
    "                              \"editname\": renameColumns}\n",
    "    for function in functionList:\n",
    "        function['functionName']\n",
    "        df = Data_Cleansing_Methods[function['functionName']](df, function['functionsData'],\n",
    "                                                              function['applyOn'])\n",
    "    sparkDf = spark.createDataFrame(df.compute())\n",
    "\n",
    "    display(sparkDf.limit(2).toPandas())\n",
    "    return sparkDf\n"
   ]
  },
  {
   "cell_type": "markdown",
   "id": "173a6fb1",
   "metadata": {},
   "source": [
    "***CONNECTOR FUNCTIONS TO WRITE DATA.***"
   ]
  },
  {
   "cell_type": "code",
   "execution_count": null,
   "id": "1579f896",
   "metadata": {},
   "outputs": [],
   "source": [
    "import datetime\n",
    "import requests\n",
    "import datetime\n",
    "import logging\n",
    "import warnings\n",
    "warnings.filterwarnings('ignore')\n",
    "logging.basicConfig(format='%(levelname)s:%(message)s', level=logging.INFO)\n",
    "\n",
    "\n",
    "class NumtraConnector:\n",
    "\n",
    "    def put(inStages, inStagesData, stageId, spark, config):\n",
    "        path = eval(config)['server_url']\n",
    "        baseType = eval(config)['baseType']\n",
    "        results_url = eval(config)['results_url']\n",
    "        server = eval(config)['server']\n",
    "        originalfile = eval(config)['orignalKey']\n",
    "        eval(config)['pathOnly']\n",
    "        filename = eval(config)['filename']\n",
    "        eval(config)['ser']\n",
    "        eval(config)['user']\n",
    "        eval(config)['password']\n",
    "        eval(config)['authSource']\n",
    "        eval(config)['user_id']\n",
    "        eval(config)['parent_id']\n",
    "        eval(config)['project_id']\n",
    "        time = str(int(datetime.datetime.now().timestamp()))\n",
    "\n",
    "        inStagesData[inStages[0]]\n",
    "\n",
    "        print(path)\n",
    "        print(baseType)\n",
    "        print(results_url)\n",
    "        print(server)\n",
    "        print(originalfile)\n",
    "        print(filename)\n",
    "\n",
    "        args = {\n",
    "            'url': path,\n",
    "            'baseType': baseType,\n",
    "            'originalfile': originalfile,\n",
    "            'filename': time + filename\n",
    "        }\n",
    "\n",
    "        response = requests.post(results_url, args)\n",
    "        return response\n"
   ]
  },
  {
   "cell_type": "markdown",
   "id": "031942e3",
   "metadata": {},
   "source": [
    "***READING DATAFRAME***"
   ]
  },
  {
   "cell_type": "code",
   "execution_count": null,
   "id": "255aabb0",
   "metadata": {},
   "outputs": [],
   "source": [
    "############## CREATE SPARK SESSION ############################ ENTER YOUR SPARK MASTER IP AND PORT TO CONNECT TO SERVER ################\n",
    "from pyspark.sql import SparkSession\n",
    "spark = SparkSession.builder.master('local[1]').getOrCreate()\n",
    "#%run dateconvHooks.ipynb\n",
    "try:\n",
    "\t#sourcePreExecutionHook()\n",
    "\n",
    "\thloscurrentddmmyytdff = HDFSConnector.fetch(spark, \"{'url': '/FileStore/platform/testdata/1719808782221_HLOSCurrentddmmyy.csv', 'filename': 'HLOSCurrentddmmyy.csv', 'delimiter': ',', 'file_type': 'Delimeted', 'dbfs_token': '', 'dbfs_domain': '', 'FilePath': '/Hospital data/HLOSCurrentddmmyy.csv', 'viewFileName': 'HLOSCurrentddmmyy.csv', 'is_header': 'Use Header Line', 'baseType': 'hdfs', 'server_url': '/nexusMax/NexusMaxPlatform/uploads/platform/', 'results_url': 'http://dnm.bfirst.ai:44040/api/read/hdfs'}\")\n",
    "\n",
    "except Exception as ex: \n",
    "\tlogging.error(ex)\n",
    "#spark.stop()\n"
   ]
  },
  {
   "cell_type": "markdown",
   "id": "17c7976b",
   "metadata": {},
   "source": [
    "***PERFORMING OPERATIONS***"
   ]
  },
  {
   "cell_type": "code",
   "execution_count": null,
   "id": "3e8fb2cd",
   "metadata": {},
   "outputs": [],
   "source": [
    "#%run dateconvHooks.ipynb\n",
    "try:\n",
    "\t#operationPreExecutionHook()\n",
    "\n",
    "datapreparation = runDataCleansing(hloscurrentddmmyytdff,spark,json.dumps( {\"url\": \"/FileStore/platform/testdata/1719808782221_HLOSCurrentddmmyy.csv\", \"source_attributes\": {}, \"DataPrepFile\": \"/FileStore/platform/testdata/1719808782221_HLOSCurrentddmmyy.csv\", \"data_source\": \"platfiles\", \"startListenerOnly\": 1, \"dateColumnNames\": [\"AdmitDate\"], \"FilePath\": \"/FileStore/platform/extra/6682333019faf500e02ec9ee1719809013/0part.csv\", \"requestRatio\": 2.0, \"totalRows\": 995, \"BasicStats\": {\"missingValues\": 0.0, \"numberOfColumns\": 26, \"numberOfRows\": 995, \"duplicateRowCount\": 0, \"stats\": [{\"column\": \"AdmitDate\", \"alias\": \"AdmitDate\", \"generated\": 0, \"type\": \"date\", \"max\": \"2015129\", \"min\": \"201311\", \"mean\": \"\", \"missing\": 0.0, \"stddev\": \"\", \"outliers\": [], \"validation\": []}, {\"column\": \"lengthofstay\", \"alias\": \"lengthofstay\", \"generated\": 0, \"type\": \"numeric\", \"max\": 15, \"min\": 1, \"mean\": 3.9678391959798995, \"missing\": 0.0, \"stddev\": 2.35, \"outliers\": [12, 15], \"validation\": []}, {\"column\": \"rcount\", \"alias\": \"rcount\", \"generated\": 0, \"type\": \"numeric\", \"max\": 5, \"min\": 0, \"mean\": 1.1185929648241206, \"missing\": 0.0, \"stddev\": 1.52, \"outliers\": [5], \"validation\": []}, {\"column\": \"gender\", \"alias\": \"gender\", \"generated\": 0, \"type\": \"String\", \"max\": \"M\", \"min\": \"F\", \"mean\": \"\", \"missing\": 0.0, \"stddev\": \"\", \"outliers\": [], \"validation\": []}, {\"column\": \"dialysisrenalendstage\", \"alias\": \"dialysisrenalendstage\", \"generated\": 0, \"type\": \"numeric\", \"max\": 1, \"min\": 0, \"mean\": 0.034170854271356785, \"missing\": 0.0, \"stddev\": 0.18, \"outliers\": [1], \"validation\": []}, {\"column\": \"asthma\", \"alias\": \"asthma\", \"generated\": 0, \"type\": \"numeric\", \"max\": 1, \"min\": 0, \"mean\": 0.04522613065326633, \"missing\": 0.0, \"stddev\": 0.21, \"outliers\": [1], \"validation\": []}, {\"column\": \"irondef\", \"alias\": \"irondef\", \"generated\": 0, \"type\": \"numeric\", \"max\": 1, \"min\": 0, \"mean\": 0.09547738693467336, \"missing\": 0.0, \"stddev\": 0.29, \"outliers\": [1], \"validation\": []}, {\"column\": \"pneum\", \"alias\": \"pneum\", \"generated\": 0, \"type\": \"numeric\", \"max\": 1, \"min\": 0, \"mean\": 0.032160804020100506, \"missing\": 0.0, \"stddev\": 0.18, \"outliers\": [1], \"validation\": []}, {\"column\": \"substancedependence\", \"alias\": \"substancedependence\", \"generated\": 0, \"type\": \"numeric\", \"max\": 1, \"min\": 0, \"mean\": 0.06633165829145729, \"missing\": 0.0, \"stddev\": 0.25, \"outliers\": [1], \"validation\": []}, {\"column\": \"psychologicaldisordermajor\", \"alias\": \"psychologicaldisordermajor\", \"generated\": 0, \"type\": \"numeric\", \"max\": 1, \"min\": 0, \"mean\": 0.2522613065326633, \"missing\": 0.0, \"stddev\": 0.43, \"outliers\": [], \"validation\": []}, {\"column\": \"depress\", \"alias\": \"depress\", \"generated\": 0, \"type\": \"numeric\", \"max\": 1, \"min\": 0, \"mean\": 0.04221105527638191, \"missing\": 0.0, \"stddev\": 0.2, \"outliers\": [1], \"validation\": []}, {\"column\": \"psychother\", \"alias\": \"psychother\", \"generated\": 0, \"type\": \"numeric\", \"max\": 1, \"min\": 0, \"mean\": 0.0371859296482412, \"missing\": 0.0, \"stddev\": 0.19, \"outliers\": [1], \"validation\": []}, {\"column\": \"fibrosisandother\", \"alias\": \"fibrosisandother\", \"generated\": 0, \"type\": \"numeric\", \"max\": 1, \"min\": 0, \"mean\": 0.003015075376884422, \"missing\": 0.0, \"stddev\": 0.05, \"outliers\": [1], \"validation\": []}, {\"column\": \"malnutrition\", \"alias\": \"malnutrition\", \"generated\": 0, \"type\": \"numeric\", \"max\": 1, \"min\": 0, \"mean\": 0.054271356783919596, \"missing\": 0.0, \"stddev\": 0.23, \"outliers\": [1], \"validation\": []}, {\"column\": \"hemo\", \"alias\": \"hemo\", \"generated\": 0, \"type\": \"numeric\", \"max\": 1, \"min\": 0, \"mean\": 0.06733668341708543, \"missing\": 0.0, \"stddev\": 0.25, \"outliers\": [1], \"validation\": []}, {\"column\": \"hematocrit\", \"alias\": \"hematocrit\", \"generated\": 0, \"type\": \"real\", \"max\": 21.5, \"min\": 6.8, \"mean\": 12.077010050251257, \"missing\": 0.0, \"stddev\": 1.93, \"outliers\": [8.9, 6.8, 7.7, 7.9, 7.4, 7.5, 8.7, 9.0, 9.4, 8.075, 9.1, 9.3, 14.8, 15.2, 14.9, 15.0, 15.6, 15.9, 21.5, 17.3, 18.4, 18.45, 21.1, 19.0, 16.5, 7.6, 7.1, 7.15, 8.5, 8.2, 8.1, 8.3, 8.4, 9.2, 9.5, 8.6, 8.0, 16.2, 8.8, 16.9, 15.8, 15.3, 15.4, 15.5, 15.1, 16.7, 16.1, 16.3, 16.8, 16.6, 17.1, 17.7, 17.8, 16.4, 16.0, 17.9, 7.3, 7.8, 7.2, 8.45], \"validation\": []}, {\"column\": \"neutrophils\", \"alias\": \"neutrophils\", \"generated\": 0, \"type\": \"real\", \"max\": 37.5, \"min\": 0.8, \"mean\": 9.769472361809045, \"missing\": 0.0, \"stddev\": 3.79, \"outliers\": [0.8, 2.1, 3.5, 3.3, 3.0, 3.25, 2.0, 2.2, 2.5, 2.6, 15.9, 15.1, 16.0, 16.7, 18.65, 19.8, 20.5, 16.5, 15.7, 20.4, 16.8, 21.5, 18.8, 19.3, 21.4, 23.3, 23.2, 32.3, 33.2, 25.5, 37.5, 15.2, 15.8, 15.0, 15.6, 15.5, 16.2, 16.6, 16.9, 16.3, 16.4, 17.7, 17.3, 17.5, 17.6, 17.2, 18.3, 18.6, 18.0, 17.1, 17.0, 19.5, 18.5, 18.2, 17.4, 18.1, 20.7, 20.6, 22.8, 23.0], \"validation\": []}, {\"column\": \"sodium\", \"alias\": \"sodium\", \"generated\": 0, \"type\": \"real\", \"max\": 147.6734054, \"min\": 129.140594, \"mean\": 137.81784951829147, \"missing\": 0.0, \"stddev\": 3.08, \"outliers\": [129.1890081, 129.512507, 129.8903773, 130.5817328, 129.140594, 130.4243133, 145.402618, 146.0746105, 147.6734054, 145.9085343, 145.1518362, 146.267772, 145.7434419, 145.889009], \"validation\": []}, {\"column\": \"glucose\", \"alias\": \"glucose\", \"generated\": 0, \"type\": \"real\", \"max\": 248.9076823, \"min\": 53.4073672, \"mean\": 141.8131896778995, \"missing\": 0.0, \"stddev\": 29.31, \"outliers\": [67.48483628, 227.085692, 69.72809687, 71.44930555, 72.15010105, 218.3747502, 72.0475417, 63.93751919, 213.5903601, 53.4073672, 248.9076823, 217.1879947, 56.63158494, 221.2868824, 62.87609497, 63.08540043], \"validation\": []}, {\"column\": \"bloodureanitro\", \"alias\": \"bloodureanitro\", \"generated\": 0, \"type\": \"real\", \"max\": 87.0, \"min\": 3.0, \"mean\": 13.48155061019397, \"missing\": 0.0, \"stddev\": 7.34, \"outliers\": [3.0, 4.0, 5.0, 6.0, 7.0, 8.0, 9.0, 6.5, 6.142857143, 6.333333333, 8.666666667, 5.5, 17.0, 18.0, 19.0, 20.0, 21.0, 22.0, 23.0, 24.0, 25.0, 26.0, 26.5, 28.0, 27.0, 30.0, 29.0, 32.0, 33.0, 35.0, 36.0, 38.0, 39.0, 41.0, 42.0, 44.0, 47.0, 53.0, 72.0, 74.5, 83.0, 87.0, 20.5, 21.5, 22.5], \"validation\": []}, {\"column\": \"creatinine\", \"alias\": \"creatinine\", \"generated\": 0, \"type\": \"real\", \"max\": 1.774618353, \"min\": 0.49636912, \"mean\": 1.114055964596985, \"missing\": 0.0, \"stddev\": 0.2, \"outliers\": [0.603728088, 1.585313601, 0.65032338, 1.640736145, 1.721810542, 1.573023377, 1.629944978, 1.613905837, 1.654858411, 0.664450683, 0.669742458, 0.560094263, 1.57180024, 0.684232859, 1.583571672, 0.698324302, 0.65223829, 0.556845264, 0.642031387, 1.774618353, 1.578558839, 0.541100566, 0.626090592, 0.655631828, 0.49636912, 0.680227346, 0.622096597, 1.669489451, 1.605155113, 0.625689397, 0.659694859, 1.648781887, 1.644648259, 1.575308221, 1.575213177], \"validation\": []}, {\"column\": \"bmi\", \"alias\": \"bmi\", \"generated\": 0, \"type\": \"real\", \"max\": 35.2561749, \"min\": 23.4727059, \"mean\": 29.73807553562814, \"missing\": 0.0, \"stddev\": 1.94, \"outliers\": [23.4727059, 24.71208143, 25.11550388, 24.59660814, 24.55207325, 25.00703957, 24.31878629, 24.79015531, 25.34615189, 24.1437635, 25.17006612, 34.16839178, 34.90310156, 34.47672246, 34.37823302, 34.55187804, 35.2561749, 34.6917696, 35.02288122, 34.48832878, 34.84898953, 34.08400792, 34.35237714, 35.1972219, 25.02874736, 25.2634782, 25.26858318, 25.40004138, 24.77719222, 25.17576026], \"validation\": []}, {\"column\": \"pulse\", \"alias\": \"pulse\", \"generated\": 0, \"type\": \"numeric\", \"max\": 109, \"min\": 31, \"mean\": 73.29045226130653, \"missing\": 0.0, \"stddev\": 11.42, \"outliers\": [100, 37, 101, 103, 42, 43, 44, 45, 46, 47, 109, 31], \"validation\": []}, {\"column\": \"respiration\", \"alias\": \"respiration\", \"generated\": 0, \"type\": \"real\", \"max\": 8.9, \"min\": 0.5, \"mean\": 6.478040201005025, \"missing\": 0.0, \"stddev\": 0.56, \"outliers\": [0.5, 1.6, 4.3, 5.3, 6.3, 7.1, 5.5, 5.6, 6.4, 7.2, 7.0, 6.2, 6.1, 6.0, 7.6, 8.9, 4.85, 4.9, 4.4, 4.5, 4.1, 5.0, 5.4, 5.9, 5.1, 5.35, 6.6, 6.9, 6.65, 6.25, 7.4, 7.5, 7.9, 7.35, 8.0, 8.4, 8.6, 8.5, 8.2, 4.6, 4.7, 4.8, 5.7, 5.2, 5.8, 5.55, 6.7, 6.8, 6.55, 7.8, 7.45, 7.7, 7.3, 7.55], \"validation\": []}, {\"column\": \"secondarydiagnosisnonicd9\", \"alias\": \"secondarydiagnosisnonicd9\", \"generated\": 0, \"type\": \"numeric\", \"max\": 10, \"min\": 0, \"mean\": 2.1296482412060302, \"missing\": 0.0, \"stddev\": 2.06, \"outliers\": [6, 7, 8, 9, 10], \"validation\": []}, {\"column\": \"facid\", \"alias\": \"facid\", \"generated\": 0, \"type\": \"String\", \"max\": \"E\", \"min\": \"A\", \"mean\": \"\", \"missing\": 0.0, \"stddev\": \"\", \"outliers\": [], \"validation\": []}]}, \"predictionPowerScore\": [{\"AdmitDate\": 1.0, \"asthma\": 0.0, \"bloodureanitro\": 0.0, \"bmi\": 0.0, \"creatinine\": 0.0, \"depress\": 0.0, \"dialysisrenalendstage\": 0.0, \"facid\": 0.0, \"fibrosisandother\": 0.0, \"gender\": 0.0, \"glucose\": 0.0, \"hematocrit\": 0.0, \"hemo\": 0.0, \"irondef\": 0.0, \"lengthofstay\": 0.0, \"malnutrition\": 0.0, \"neutrophils\": 0.0, \"pneum\": 0.0, \"psychologicaldisordermajor\": 0.0, \"psychother\": 0.0, \"pulse\": 0.0, \"rcount\": 0.0, \"respiration\": 0.0, \"secondarydiagnosisnonicd9\": 0.0, \"sodium\": 0.0, \"substancedependence\": 0.0}, {\"AdmitDate\": 0.0, \"asthma\": 1.0, \"bloodureanitro\": 0.0, \"bmi\": 0.0, \"creatinine\": 0.0, \"depress\": 0.0, \"dialysisrenalendstage\": 0.0, \"facid\": 0.0, \"fibrosisandother\": 0.0, \"gender\": 0.0, \"glucose\": 0.0, \"hematocrit\": 0.0, \"hemo\": 0.0, \"irondef\": 0.0, \"lengthofstay\": 0.0, \"malnutrition\": 0.0, \"neutrophils\": 0.0, \"pneum\": 0.0, \"psychologicaldisordermajor\": 0.0, \"psychother\": 0.0, \"pulse\": 0.0, \"rcount\": 0.0, \"respiration\": 0.0, \"secondarydiagnosisnonicd9\": 0.0, \"sodium\": 0.0, \"substancedependence\": 0.0}, {\"AdmitDate\": 0.0, \"asthma\": 0.0, \"bloodureanitro\": 1.0, \"bmi\": 0.0, \"creatinine\": 0.0, \"depress\": 0.0, \"dialysisrenalendstage\": 0.0, \"facid\": 0.0, \"fibrosisandother\": 0.0, \"gender\": 0.0, \"glucose\": 0.0, \"hematocrit\": 0.0, \"hemo\": 0.0, \"irondef\": 0.0, \"lengthofstay\": 0.0, \"malnutrition\": 0.0, \"neutrophils\": 0.0, \"pneum\": 0.0, \"psychologicaldisordermajor\": 0.0, \"psychother\": 0.0, \"pulse\": 0.0, \"rcount\": 0.0, \"respiration\": 0.0, \"secondarydiagnosisnonicd9\": 0.0, \"sodium\": 0.0, \"substancedependence\": 0.0}, {\"AdmitDate\": 0.0, \"asthma\": 0.0, \"bloodureanitro\": 0.0, \"bmi\": 1.0, \"creatinine\": 0.0, \"depress\": 0.0, \"dialysisrenalendstage\": 0.0, \"facid\": 0.00121512, \"fibrosisandother\": 0.0, \"gender\": 0.0, \"glucose\": 0.0, \"hematocrit\": 0.0, \"hemo\": 0.0, \"irondef\": 0.0, \"lengthofstay\": 0.0, \"malnutrition\": 0.0, \"neutrophils\": 0.0, \"pneum\": 0.0, \"psychologicaldisordermajor\": 0.0, \"psychother\": 0.0, \"pulse\": 0.0, \"rcount\": 0.0, \"respiration\": 0.0, \"secondarydiagnosisnonicd9\": 0.0, \"sodium\": 0.0, \"substancedependence\": 0.0}, {\"AdmitDate\": 0.0, \"asthma\": 0.0, \"bloodureanitro\": 0.0, \"bmi\": 0.0, \"creatinine\": 1.0, \"depress\": 0.0008544309, \"dialysisrenalendstage\": 0.0, \"facid\": 0.0, \"fibrosisandother\": 0.0, \"gender\": 0.0, \"glucose\": 0.0, \"hematocrit\": 0.0, \"hemo\": 0.0, \"irondef\": 0.0, \"lengthofstay\": 0.0, \"malnutrition\": 0.0006550234, \"neutrophils\": 0.0, \"pneum\": 0.0, \"psychologicaldisordermajor\": 0.0, \"psychother\": 0.0, \"pulse\": 0.0, \"rcount\": 0.0, \"respiration\": 0.0, \"secondarydiagnosisnonicd9\": 0.0, \"sodium\": 0.0, \"substancedependence\": 0.0}, {\"AdmitDate\": 0.0, \"asthma\": 0.0, \"bloodureanitro\": 0.0, \"bmi\": 0.0, \"creatinine\": 0.0, \"depress\": 1.0, \"dialysisrenalendstage\": 0.0, \"facid\": 0.0, \"fibrosisandother\": 0.0, \"gender\": 0.0, \"glucose\": 0.0, \"hematocrit\": 0.0, \"hemo\": 0.0, \"irondef\": 0.0, \"lengthofstay\": 0.0, \"malnutrition\": 0.0, \"neutrophils\": 0.0, \"pneum\": 0.0, \"psychologicaldisordermajor\": 0.0, \"psychother\": 0.0, \"pulse\": 0.0, \"rcount\": 0.0, \"respiration\": 0.0, \"secondarydiagnosisnonicd9\": 0.0, \"sodium\": 0.0, \"substancedependence\": 0.0}, {\"AdmitDate\": 0.0, \"asthma\": 0.0, \"bloodureanitro\": 0.0, \"bmi\": 0.0, \"creatinine\": 0.0, \"depress\": 0.0, \"dialysisrenalendstage\": 1.0, \"facid\": 0.0, \"fibrosisandother\": 0.0, \"gender\": 0.0, \"glucose\": 0.0, \"hematocrit\": 0.0, \"hemo\": 0.0, \"irondef\": 0.0, \"lengthofstay\": 0.0, \"malnutrition\": 0.0, \"neutrophils\": 0.0, \"pneum\": 0.0, \"psychologicaldisordermajor\": 0.0, \"psychother\": 0.0, \"pulse\": 0.0, \"rcount\": 0.0, \"respiration\": 0.0, \"secondarydiagnosisnonicd9\": 0.0, \"sodium\": 0.0, \"substancedependence\": 0.0}, {\"AdmitDate\": 0.0, \"asthma\": 0.0, \"bloodureanitro\": 0.0289302403, \"bmi\": 0.0162681859, \"creatinine\": 0.0292393268, \"depress\": 0.0, \"dialysisrenalendstage\": 0.0, \"facid\": 1.0, \"fibrosisandother\": 0.0, \"gender\": 0.0, \"glucose\": 0.0, \"hematocrit\": 0.0239837784, \"hemo\": 0.0, \"irondef\": 0.0, \"lengthofstay\": 0.111769167, \"malnutrition\": 0.0, \"neutrophils\": 0.0660976706, \"pneum\": 0.0, \"psychologicaldisordermajor\": 0.2261406365, \"psychother\": 0.0, \"pulse\": 0.0, \"rcount\": 0.0, \"respiration\": 0.0290416203, \"secondarydiagnosisnonicd9\": 0.0, \"sodium\": 0.0007002981, \"substancedependence\": 0.0}, {\"AdmitDate\": 0.0, \"asthma\": 0.0, \"bloodureanitro\": 0.0, \"bmi\": 0.0, \"creatinine\": 0.0, \"depress\": 0.0, \"dialysisrenalendstage\": 0.0, \"facid\": 0.0, \"fibrosisandother\": 1.0, \"gender\": 0.0, \"glucose\": 0.0, \"hematocrit\": 0.0, \"hemo\": 0.0, \"irondef\": 0.0, \"lengthofstay\": 0.0, \"malnutrition\": 0.0, \"neutrophils\": 0.0010040161, \"pneum\": 0.0, \"psychologicaldisordermajor\": 0.0, \"psychother\": 0.0, \"pulse\": 0.0, \"rcount\": 0.0, \"respiration\": 0.0, \"secondarydiagnosisnonicd9\": 0.0, \"sodium\": 0.0, \"substancedependence\": 0.0}, {\"AdmitDate\": 0.0, \"asthma\": 0.0, \"bloodureanitro\": 0.1576970336, \"bmi\": 0.0, \"creatinine\": 0.0205931394, \"depress\": 0.0, \"dialysisrenalendstage\": 0.0, \"facid\": 0.1455612172, \"fibrosisandother\": 0.0, \"gender\": 1.0, \"glucose\": 0.0278616409, \"hematocrit\": 0.3016365445, \"hemo\": 0.0, \"irondef\": 0.0, \"lengthofstay\": 0.0, \"malnutrition\": 0.0, \"neutrophils\": 0.1538111051, \"pneum\": 0.0, \"psychologicaldisordermajor\": 0.1192515705, \"psychother\": 0.0, \"pulse\": 0.0112311624, \"rcount\": 0.0, \"respiration\": 0.0, \"secondarydiagnosisnonicd9\": 0.1257822204, \"sodium\": 0.0, \"substancedependence\": 0.0}, {\"AdmitDate\": 0.0, \"asthma\": 0.0, \"bloodureanitro\": 0.0, \"bmi\": 0.0, \"creatinine\": 0.0, \"depress\": 0.0, \"dialysisrenalendstage\": 0.0, \"facid\": 0.0, \"fibrosisandother\": 0.0, \"gender\": 0.0, \"glucose\": 1.0, \"hematocrit\": 0.0, \"hemo\": 0.0001489342, \"irondef\": 0.0, \"lengthofstay\": 0.0, \"malnutrition\": 0.0, \"neutrophils\": 0.0, \"pneum\": 0.0, \"psychologicaldisordermajor\": 0.0, \"psychother\": 0.0, \"pulse\": 0.0, \"rcount\": 0.0, \"respiration\": 0.0, \"secondarydiagnosisnonicd9\": 0.0, \"sodium\": 0.0, \"substancedependence\": 0.0}, {\"AdmitDate\": 0.0, \"asthma\": 0.0, \"bloodureanitro\": 0.0, \"bmi\": 0.0, \"creatinine\": 0.0, \"depress\": 0.0, \"dialysisrenalendstage\": 0.0, \"facid\": 0.0, \"fibrosisandother\": 0.0, \"gender\": 0.0, \"glucose\": 0.0, \"hematocrit\": 1.0, \"hemo\": 0.0154769365, \"irondef\": 0.0, \"lengthofstay\": 0.0, \"malnutrition\": 0.0, \"neutrophils\": 0.0, \"pneum\": 0.0, \"psychologicaldisordermajor\": 0.0, \"psychother\": 0.0, \"pulse\": 0.0, \"rcount\": 0.0, \"respiration\": 0.0, \"secondarydiagnosisnonicd9\": 0.0, \"sodium\": 0.0, \"substancedependence\": 0.0}, {\"AdmitDate\": 0.0, \"asthma\": 0.0, \"bloodureanitro\": 0.0, \"bmi\": 0.0, \"creatinine\": 0.0, \"depress\": 0.0, \"dialysisrenalendstage\": 0.0, \"facid\": 0.0, \"fibrosisandother\": 0.0, \"gender\": 0.0, \"glucose\": 0.0, \"hematocrit\": 0.0, \"hemo\": 1.0, \"irondef\": 0.0, \"lengthofstay\": 0.0, \"malnutrition\": 0.0, \"neutrophils\": 0.0, \"pneum\": 0.0, \"psychologicaldisordermajor\": 0.0, \"psychother\": 0.0, \"pulse\": 0.0, \"rcount\": 0.0, \"respiration\": 0.0, \"secondarydiagnosisnonicd9\": 0.0, \"sodium\": 0.0, \"substancedependence\": 0.0}, {\"AdmitDate\": 0.0, \"asthma\": 0.0, \"bloodureanitro\": 0.0, \"bmi\": 0.0, \"creatinine\": 0.0, \"depress\": 0.0, \"dialysisrenalendstage\": 0.0, \"facid\": 0.0, \"fibrosisandother\": 0.0, \"gender\": 0.0, \"glucose\": 0.0, \"hematocrit\": 0.0, \"hemo\": 0.0, \"irondef\": 1.0, \"lengthofstay\": 0.0, \"malnutrition\": 0.0, \"neutrophils\": 0.0, \"pneum\": 0.0, \"psychologicaldisordermajor\": 0.0, \"psychother\": 0.0, \"pulse\": 0.0, \"rcount\": 0.0, \"respiration\": 0.0, \"secondarydiagnosisnonicd9\": 0.0, \"sodium\": 0.0, \"substancedependence\": 0.0}, {\"AdmitDate\": 0.0, \"asthma\": 0.0, \"bloodureanitro\": 0.0002408721, \"bmi\": 0.0, \"creatinine\": 0.0, \"depress\": 0.0, \"dialysisrenalendstage\": 0.0088854485, \"facid\": 0.0603371156, \"fibrosisandother\": 0.0, \"gender\": 0.0, \"glucose\": 0.0, \"hematocrit\": 0.0, \"hemo\": 0.0134571026, \"irondef\": 0.004127401, \"lengthofstay\": 1.0, \"malnutrition\": 0.0023022129, \"neutrophils\": 0.0, \"pneum\": 0.0001811283, \"psychologicaldisordermajor\": 0.0199104894, \"psychother\": 0.004674052, \"pulse\": 0.0, \"rcount\": 0.3457462606, \"respiration\": 0.0, \"secondarydiagnosisnonicd9\": 0.0, \"sodium\": 0.0, \"substancedependence\": 0.000941259}, {\"AdmitDate\": 0.0, \"asthma\": 0.0, \"bloodureanitro\": 0.0, \"bmi\": 0.0, \"creatinine\": 0.0, \"depress\": 0.0, \"dialysisrenalendstage\": 0.0, \"facid\": 0.0, \"fibrosisandother\": 0.0, \"gender\": 0.0, \"glucose\": 0.0, \"hematocrit\": 0.0, \"hemo\": 0.0, \"irondef\": 0.0, \"lengthofstay\": 0.0, \"malnutrition\": 1.0, \"neutrophils\": 0.0, \"pneum\": 0.0, \"psychologicaldisordermajor\": 0.0, \"psychother\": 0.0, \"pulse\": 0.0, \"rcount\": 0.0, \"respiration\": 0.0, \"secondarydiagnosisnonicd9\": 0.0, \"sodium\": 0.0, \"substancedependence\": 0.0}, {\"AdmitDate\": 0.0, \"asthma\": 0.0, \"bloodureanitro\": 0.0, \"bmi\": 0.0, \"creatinine\": 0.0, \"depress\": 0.0, \"dialysisrenalendstage\": 0.0, \"facid\": 0.0, \"fibrosisandother\": 0.0, \"gender\": 0.0, \"glucose\": 0.0, \"hematocrit\": 0.0, \"hemo\": 0.0, \"irondef\": 0.0, \"lengthofstay\": 0.0, \"malnutrition\": 0.0, \"neutrophils\": 1.0, \"pneum\": 0.0, \"psychologicaldisordermajor\": 0.0, \"psychother\": 0.0, \"pulse\": 0.0, \"rcount\": 0.0, \"respiration\": 0.0, \"secondarydiagnosisnonicd9\": 0.0, \"sodium\": 0.0, \"substancedependence\": 0.0}, {\"AdmitDate\": 0.0, \"asthma\": 0.0, \"bloodureanitro\": 0.0, \"bmi\": 0.0, \"creatinine\": 0.0, \"depress\": 0.0, \"dialysisrenalendstage\": 0.0, \"facid\": 0.0, \"fibrosisandother\": 0.0, \"gender\": 0.0, \"glucose\": 0.0, \"hematocrit\": 0.0, \"hemo\": 0.0, \"irondef\": 0.0, \"lengthofstay\": 0.0, \"malnutrition\": 0.0, \"neutrophils\": 0.0, \"pneum\": 1.0, \"psychologicaldisordermajor\": 0.0, \"psychother\": 0.0, \"pulse\": 0.0, \"rcount\": 0.0, \"respiration\": 0.0, \"secondarydiagnosisnonicd9\": 0.0, \"sodium\": 0.0, \"substancedependence\": 0.0}, {\"AdmitDate\": 0.0, \"asthma\": 0.0, \"bloodureanitro\": 0.0, \"bmi\": 0.0, \"creatinine\": 0.0, \"depress\": 0.0, \"dialysisrenalendstage\": 0.0, \"facid\": 0.474621223, \"fibrosisandother\": 0.0, \"gender\": 0.0, \"glucose\": 0.0, \"hematocrit\": 0.0, \"hemo\": 0.0, \"irondef\": 0.0, \"lengthofstay\": 0.0, \"malnutrition\": 0.0, \"neutrophils\": 0.0, \"pneum\": 0.0, \"psychologicaldisordermajor\": 1.0, \"psychother\": 0.0, \"pulse\": 0.0, \"rcount\": 0.0, \"respiration\": 0.0, \"secondarydiagnosisnonicd9\": 0.0, \"sodium\": 0.0, \"substancedependence\": 0.0}, {\"AdmitDate\": 0.0, \"asthma\": 0.0, \"bloodureanitro\": 0.0, \"bmi\": 0.0, \"creatinine\": 0.0, \"depress\": 0.0, \"dialysisrenalendstage\": 0.0, \"facid\": 0.0, \"fibrosisandother\": 0.0, \"gender\": 0.0, \"glucose\": 0.0, \"hematocrit\": 0.0, \"hemo\": 0.0, \"irondef\": 0.0, \"lengthofstay\": 0.0, \"malnutrition\": 0.0, \"neutrophils\": 0.0, \"pneum\": 0.0, \"psychologicaldisordermajor\": 0.0, \"psychother\": 1.0, \"pulse\": 0.0, \"rcount\": 0.0, \"respiration\": 0.0, \"secondarydiagnosisnonicd9\": 0.0, \"sodium\": 0.0, \"substancedependence\": 0.0}, {\"AdmitDate\": 0.0, \"asthma\": 0.0, \"bloodureanitro\": 0.0, \"bmi\": 0.0, \"creatinine\": 0.0, \"depress\": 0.0, \"dialysisrenalendstage\": 0.0, \"facid\": 0.0, \"fibrosisandother\": 0.0, \"gender\": 0.0, \"glucose\": 0.0, \"hematocrit\": 0.0, \"hemo\": 0.0, \"irondef\": 0.0006967716, \"lengthofstay\": 0.0, \"malnutrition\": 0.0, \"neutrophils\": 0.0, \"pneum\": 0.0, \"psychologicaldisordermajor\": 0.0, \"psychother\": 0.0, \"pulse\": 1.0, \"rcount\": 0.0, \"respiration\": 0.0, \"secondarydiagnosisnonicd9\": 0.0, \"sodium\": 0.0, \"substancedependence\": 0.0}, {\"AdmitDate\": 0.0, \"asthma\": 0.0, \"bloodureanitro\": 0.0, \"bmi\": 0.0, \"creatinine\": 0.0, \"depress\": 0.0, \"dialysisrenalendstage\": 0.0, \"facid\": 0.0, \"fibrosisandother\": 0.0, \"gender\": 0.0, \"glucose\": 0.0, \"hematocrit\": 0.0, \"hemo\": 0.0, \"irondef\": 0.0, \"lengthofstay\": 0.4210569476, \"malnutrition\": 0.0, \"neutrophils\": 0.0, \"pneum\": 0.0, \"psychologicaldisordermajor\": 0.0, \"psychother\": 0.0, \"pulse\": 0.0, \"rcount\": 1.0, \"respiration\": 0.0, \"secondarydiagnosisnonicd9\": 0.0, \"sodium\": 0.0, \"substancedependence\": 0.0}, {\"AdmitDate\": 0.0, \"asthma\": 0.0, \"bloodureanitro\": 0.0, \"bmi\": 0.0, \"creatinine\": 0.0, \"depress\": 0.0, \"dialysisrenalendstage\": 0.0, \"facid\": 0.0, \"fibrosisandother\": 0.0, \"gender\": 0.0, \"glucose\": 0.0, \"hematocrit\": 0.0, \"hemo\": 0.0, \"irondef\": 0.0, \"lengthofstay\": 0.0, \"malnutrition\": 0.0, \"neutrophils\": 0.0, \"pneum\": 0.0, \"psychologicaldisordermajor\": 0.0, \"psychother\": 0.0, \"pulse\": 0.0, \"rcount\": 0.0, \"respiration\": 1.0, \"secondarydiagnosisnonicd9\": 0.0, \"sodium\": 0.0, \"substancedependence\": 0.0}, {\"AdmitDate\": 0.0, \"asthma\": 0.0, \"bloodureanitro\": 0.0, \"bmi\": 0.0, \"creatinine\": 0.0, \"depress\": 0.0, \"dialysisrenalendstage\": 0.0, \"facid\": 0.0, \"fibrosisandother\": 0.0, \"gender\": 0.0, \"glucose\": 0.0, \"hematocrit\": 0.0, \"hemo\": 0.0, \"irondef\": 0.0, \"lengthofstay\": 0.0, \"malnutrition\": 0.0, \"neutrophils\": 0.0, \"pneum\": 0.0, \"psychologicaldisordermajor\": 0.0, \"psychother\": 0.0, \"pulse\": 0.0, \"rcount\": 0.0, \"respiration\": 0.0, \"secondarydiagnosisnonicd9\": 1.0, \"sodium\": 0.0, \"substancedependence\": 0.0}, {\"AdmitDate\": 0.0, \"asthma\": 0.0, \"bloodureanitro\": 0.0, \"bmi\": 0.0, \"creatinine\": 0.0, \"depress\": 0.0, \"dialysisrenalendstage\": 0.0, \"facid\": 0.0, \"fibrosisandother\": 0.0004909046, \"gender\": 0.0, \"glucose\": 0.0, \"hematocrit\": 0.0, \"hemo\": 0.003113404, \"irondef\": 0.0, \"lengthofstay\": 0.0, \"malnutrition\": 0.0, \"neutrophils\": 0.0, \"pneum\": 0.0, \"psychologicaldisordermajor\": 0.0, \"psychother\": 0.0001291421, \"pulse\": 0.0, \"rcount\": 0.0027783773, \"respiration\": 0.0, \"secondarydiagnosisnonicd9\": 0.0, \"sodium\": 1.0, \"substancedependence\": 0.0020212508}, {\"AdmitDate\": 0.0, \"asthma\": 0.0, \"bloodureanitro\": 0.0, \"bmi\": 0.0, \"creatinine\": 0.0, \"depress\": 0.0, \"dialysisrenalendstage\": 0.0, \"facid\": 0.0, \"fibrosisandother\": 0.0, \"gender\": 0.0, \"glucose\": 0.0, \"hematocrit\": 0.0, \"hemo\": 0.0, \"irondef\": 0.0, \"lengthofstay\": 0.0, \"malnutrition\": 0.0, \"neutrophils\": 0.0, \"pneum\": 0.0, \"psychologicaldisordermajor\": 0.0, \"psychother\": 0.0, \"pulse\": 0.0, \"rcount\": 0.0, \"respiration\": 0.0, \"secondarydiagnosisnonicd9\": 0.0, \"sodium\": 0.0, \"substancedependence\": 1.0}], \"HasBasicStats\": 1, \"functionsApplied\": [{\"functionName\": \"transformDate\", \"applyOn\": [{\"columnName\": \"AdmitDate\", \"type\": \"date\", \"min\": \"201311\", \"max\": \"2015129\", \"mean\": \"-\"}], \"functionsData\": [{\"column\": [{\"columnName\": \"AdmitDate\", \"type\": \"date\", \"min\": \"201311\", \"max\": \"2015129\", \"mean\": \"-\"}], \"inputDateFormat\": \"DD/MM/YYYY\", \"outputDateFormat\": \"YYYY-MM-DD\", \"newColumn\": \"False\"}]}], \"functionChanges\": [{\"columnName\": \"AdmitDate\", \"functionName\": \"transformDate\", \"Type\": \"date\", \"Parameters\": [{\"column\": [{\"columnName\": \"AdmitDate\", \"type\": \"date\", \"min\": \"201311\", \"max\": \"2015129\", \"mean\": \"-\"}], \"inputDateFormat\": \"DD/MM/YYYY\", \"outputDateFormat\": \"YYYY-MM-DD\", \"newColumn\": \"False\"}]}], \"fileheader\": [{\"field\": \"AdmitDate\", \"alias\": \"AdmitDate\", \"generated\": 0, \"position\": 1, \"type\": \"date\"}, {\"field\": \"lengthofstay\", \"alias\": \"lengthofstay\", \"generated\": 0, \"position\": 2, \"type\": \"numeric\"}, {\"field\": \"rcount\", \"alias\": \"rcount\", \"generated\": 0, \"position\": 3, \"type\": \"numeric\"}, {\"field\": \"gender\", \"alias\": \"gender\", \"generated\": 0, \"position\": 4, \"type\": \"String\"}, {\"field\": \"dialysisrenalendstage\", \"alias\": \"dialysisrenalendstage\", \"generated\": 0, \"position\": 5, \"type\": \"numeric\"}, {\"field\": \"asthma\", \"alias\": \"asthma\", \"generated\": 0, \"position\": 6, \"type\": \"numeric\"}, {\"field\": \"irondef\", \"alias\": \"irondef\", \"generated\": 0, \"position\": 7, \"type\": \"numeric\"}, {\"field\": \"pneum\", \"alias\": \"pneum\", \"generated\": 0, \"position\": 8, \"type\": \"numeric\"}, {\"field\": \"substancedependence\", \"alias\": \"substancedependence\", \"generated\": 0, \"position\": 9, \"type\": \"numeric\"}, {\"field\": \"psychologicaldisordermajor\", \"alias\": \"psychologicaldisordermajor\", \"generated\": 0, \"position\": 10, \"type\": \"numeric\"}, {\"field\": \"depress\", \"alias\": \"depress\", \"generated\": 0, \"position\": 11, \"type\": \"numeric\"}, {\"field\": \"psychother\", \"alias\": \"psychother\", \"generated\": 0, \"position\": 12, \"type\": \"numeric\"}, {\"field\": \"fibrosisandother\", \"alias\": \"fibrosisandother\", \"generated\": 0, \"position\": 13, \"type\": \"numeric\"}, {\"field\": \"malnutrition\", \"alias\": \"malnutrition\", \"generated\": 0, \"position\": 14, \"type\": \"numeric\"}, {\"field\": \"hemo\", \"alias\": \"hemo\", \"generated\": 0, \"position\": 15, \"type\": \"numeric\"}, {\"field\": \"hematocrit\", \"alias\": \"hematocrit\", \"generated\": 0, \"position\": 16, \"type\": \"real\"}, {\"field\": \"neutrophils\", \"alias\": \"neutrophils\", \"generated\": 0, \"position\": 17, \"type\": \"real\"}, {\"field\": \"sodium\", \"alias\": \"sodium\", \"generated\": 0, \"position\": 18, \"type\": \"real\"}, {\"field\": \"glucose\", \"alias\": \"glucose\", \"generated\": 0, \"position\": 19, \"type\": \"real\"}, {\"field\": \"bloodureanitro\", \"alias\": \"bloodureanitro\", \"generated\": 0, \"position\": 20, \"type\": \"real\"}, {\"field\": \"creatinine\", \"alias\": \"creatinine\", \"generated\": 0, \"position\": 21, \"type\": \"real\"}, {\"field\": \"bmi\", \"alias\": \"bmi\", \"generated\": 0, \"position\": 22, \"type\": \"real\"}, {\"field\": \"pulse\", \"alias\": \"pulse\", \"generated\": 0, \"position\": 23, \"type\": \"numeric\"}, {\"field\": \"respiration\", \"alias\": \"respiration\", \"generated\": 0, \"position\": 24, \"type\": \"real\"}, {\"field\": \"secondarydiagnosisnonicd9\", \"alias\": \"secondarydiagnosisnonicd9\", \"generated\": 0, \"position\": 25, \"type\": \"numeric\"}, {\"field\": \"facid\", \"alias\": \"facid\", \"generated\": 0, \"position\": 26, \"type\": \"String\"}]}))\n",
    "\t#operationPostExecutionHook(datapreparation)\n",
    "\n",
    "except Exception as ex: \n",
    "\tlogging.error(ex)\n"
   ]
  },
  {
   "cell_type": "markdown",
   "id": "216ec9ef",
   "metadata": {},
   "source": [
    "***WRITING DATAFRAME***"
   ]
  },
  {
   "cell_type": "code",
   "execution_count": null,
   "id": "d6057053",
   "metadata": {},
   "outputs": [],
   "source": [
    "#%run dateconvHooks.ipynb\n",
    "try:\n",
    "\t#sinkPreExecutionHook()\n",
    "\n",
    "\thospitaldataoutput = NumtraConnector.fetch(spark, \"{'samplefile': '/FileStore/platform/sampleData/6682332d19faf500e02ec9ea/part-00000-d1d15636-d363-4697-867a-848f7c9e4fb4-c000.csv', 'samplecount': 995, 'originalcount': 995, 'orignalKey': '/FileStore/platform/testdata/1719808782221_HLOSCurrentddmmyy.csv', 'pathOnly': '/Hospital data', 'project_id': '6656efbd7bda2cdf975e0e0e', 'parent_id': '6656efbd7bda2cdf975e0e0e', 'original_schema': [{'checked': True, 'inherited': True, 'is_categorical': False, 'bad_values': '', 'nullable': 'true', 'field': 'AdmitDate', 'alias': 'AdmitDate', 'type': 'date', 'position': '0'}, {'checked': True, 'inherited': True, 'is_categorical': False, 'bad_values': '', 'nullable': 'true', 'field': 'lengthofstay', 'alias': 'lengthofstay', 'type': 'numeric', 'position': '1'}, {'checked': True, 'inherited': True, 'is_categorical': False, 'bad_values': '', 'nullable': 'true', 'field': 'rcount', 'alias': 'rcount', 'type': 'numeric', 'position': '2'}, {'checked': True, 'inherited': True, 'is_categorical': False, 'bad_values': '', 'nullable': 'true', 'field': 'gender', 'alias': 'gender', 'type': 'String', 'position': '3'}, {'checked': True, 'inherited': True, 'is_categorical': False, 'bad_values': '', 'nullable': 'true', 'field': 'dialysisrenalendstage', 'alias': 'dialysisrenalendstage', 'type': 'numeric', 'position': '4'}, {'checked': True, 'inherited': True, 'is_categorical': False, 'bad_values': '', 'nullable': 'true', 'field': 'asthma', 'alias': 'asthma', 'type': 'numeric', 'position': '5'}, {'checked': True, 'inherited': True, 'is_categorical': False, 'bad_values': '', 'nullable': 'true', 'field': 'irondef', 'alias': 'irondef', 'type': 'numeric', 'position': '6'}, {'checked': True, 'inherited': True, 'is_categorical': False, 'bad_values': '', 'nullable': 'true', 'field': 'pneum', 'alias': 'pneum', 'type': 'numeric', 'position': '7'}, {'checked': True, 'inherited': True, 'is_categorical': False, 'bad_values': '', 'nullable': 'true', 'field': 'substancedependence', 'alias': 'substancedependence', 'type': 'numeric', 'position': '8'}, {'checked': True, 'inherited': True, 'is_categorical': False, 'bad_values': '', 'nullable': 'true', 'field': 'psychologicaldisordermajor', 'alias': 'psychologicaldisordermajor', 'type': 'numeric', 'position': '9'}, {'checked': True, 'inherited': True, 'is_categorical': False, 'bad_values': '', 'nullable': 'true', 'field': 'depress', 'alias': 'depress', 'type': 'numeric', 'position': '10'}, {'checked': True, 'inherited': True, 'is_categorical': False, 'bad_values': '', 'nullable': 'true', 'field': 'psychother', 'alias': 'psychother', 'type': 'numeric', 'position': '11'}, {'checked': True, 'inherited': True, 'is_categorical': False, 'bad_values': '', 'nullable': 'true', 'field': 'fibrosisandother', 'alias': 'fibrosisandother', 'type': 'numeric', 'position': '12'}, {'checked': True, 'inherited': True, 'is_categorical': False, 'bad_values': '', 'nullable': 'true', 'field': 'malnutrition', 'alias': 'malnutrition', 'type': 'numeric', 'position': '13'}, {'checked': True, 'inherited': True, 'is_categorical': False, 'bad_values': '', 'nullable': 'true', 'field': 'hemo', 'alias': 'hemo', 'type': 'numeric', 'position': '14'}, {'checked': True, 'inherited': True, 'is_categorical': False, 'bad_values': '', 'nullable': 'true', 'field': 'hematocrit', 'alias': 'hematocrit', 'type': 'real', 'position': '15'}, {'checked': True, 'inherited': True, 'is_categorical': False, 'bad_values': '', 'nullable': 'true', 'field': 'neutrophils', 'alias': 'neutrophils', 'type': 'real', 'position': '16'}, {'checked': True, 'inherited': True, 'is_categorical': False, 'bad_values': '', 'nullable': 'true', 'field': 'sodium', 'alias': 'sodium', 'type': 'real', 'position': '17'}, {'checked': True, 'inherited': True, 'is_categorical': False, 'bad_values': '', 'nullable': 'true', 'field': 'glucose', 'alias': 'glucose', 'type': 'real', 'position': '18'}, {'checked': True, 'inherited': True, 'is_categorical': False, 'bad_values': '', 'nullable': 'true', 'field': 'bloodureanitro', 'alias': 'bloodureanitro', 'type': 'real', 'position': '19'}, {'checked': True, 'inherited': True, 'is_categorical': False, 'bad_values': '', 'nullable': 'true', 'field': 'creatinine', 'alias': 'creatinine', 'type': 'real', 'position': '20'}, {'checked': True, 'inherited': True, 'is_categorical': False, 'bad_values': '', 'nullable': 'true', 'field': 'bmi', 'alias': 'bmi', 'type': 'real', 'position': '21'}, {'checked': True, 'inherited': True, 'is_categorical': False, 'bad_values': '', 'nullable': 'true', 'field': 'pulse', 'alias': 'pulse', 'type': 'numeric', 'position': '22'}, {'checked': True, 'inherited': True, 'is_categorical': False, 'bad_values': '', 'nullable': 'true', 'field': 'respiration', 'alias': 'respiration', 'type': 'real', 'position': '23'}, {'checked': True, 'inherited': True, 'is_categorical': False, 'bad_values': '', 'nullable': 'true', 'field': 'secondarydiagnosisnonicd9', 'alias': 'secondarydiagnosisnonicd9', 'type': 'numeric', 'position': '24'}, {'checked': True, 'inherited': True, 'is_categorical': False, 'bad_values': '', 'nullable': 'true', 'field': 'facid', 'alias': 'facid', 'type': 'String', 'position': '25'}], 'actual_schema': [{'checked': True, 'inherited': True, 'is_categorical': False, 'bad_values': '', 'nullable': 'true', 'field': 'AdmitDate', 'alias': 'AdmitDate', 'type': 'date', 'position': '0'}, {'checked': True, 'inherited': True, 'is_categorical': False, 'bad_values': '', 'nullable': 'true', 'field': 'lengthofstay', 'alias': 'lengthofstay', 'type': 'numeric', 'position': '1'}, {'checked': True, 'inherited': True, 'is_categorical': False, 'bad_values': '', 'nullable': 'true', 'field': 'rcount', 'alias': 'rcount', 'type': 'numeric', 'position': '2'}, {'checked': True, 'inherited': True, 'is_categorical': False, 'bad_values': '', 'nullable': 'true', 'field': 'gender', 'alias': 'gender', 'type': 'String', 'position': '3'}, {'checked': True, 'inherited': True, 'is_categorical': False, 'bad_values': '', 'nullable': 'true', 'field': 'dialysisrenalendstage', 'alias': 'dialysisrenalendstage', 'type': 'numeric', 'position': '4'}, {'checked': True, 'inherited': True, 'is_categorical': False, 'bad_values': '', 'nullable': 'true', 'field': 'asthma', 'alias': 'asthma', 'type': 'numeric', 'position': '5'}, {'checked': True, 'inherited': True, 'is_categorical': False, 'bad_values': '', 'nullable': 'true', 'field': 'irondef', 'alias': 'irondef', 'type': 'numeric', 'position': '6'}, {'checked': True, 'inherited': True, 'is_categorical': False, 'bad_values': '', 'nullable': 'true', 'field': 'pneum', 'alias': 'pneum', 'type': 'numeric', 'position': '7'}, {'checked': True, 'inherited': True, 'is_categorical': False, 'bad_values': '', 'nullable': 'true', 'field': 'substancedependence', 'alias': 'substancedependence', 'type': 'numeric', 'position': '8'}, {'checked': True, 'inherited': True, 'is_categorical': False, 'bad_values': '', 'nullable': 'true', 'field': 'psychologicaldisordermajor', 'alias': 'psychologicaldisordermajor', 'type': 'numeric', 'position': '9'}, {'checked': True, 'inherited': True, 'is_categorical': False, 'bad_values': '', 'nullable': 'true', 'field': 'depress', 'alias': 'depress', 'type': 'numeric', 'position': '10'}, {'checked': True, 'inherited': True, 'is_categorical': False, 'bad_values': '', 'nullable': 'true', 'field': 'psychother', 'alias': 'psychother', 'type': 'numeric', 'position': '11'}, {'checked': True, 'inherited': True, 'is_categorical': False, 'bad_values': '', 'nullable': 'true', 'field': 'fibrosisandother', 'alias': 'fibrosisandother', 'type': 'numeric', 'position': '12'}, {'checked': True, 'inherited': True, 'is_categorical': False, 'bad_values': '', 'nullable': 'true', 'field': 'malnutrition', 'alias': 'malnutrition', 'type': 'numeric', 'position': '13'}, {'checked': True, 'inherited': True, 'is_categorical': False, 'bad_values': '', 'nullable': 'true', 'field': 'hemo', 'alias': 'hemo', 'type': 'numeric', 'position': '14'}, {'checked': True, 'inherited': True, 'is_categorical': False, 'bad_values': '', 'nullable': 'true', 'field': 'hematocrit', 'alias': 'hematocrit', 'type': 'real', 'position': '15'}, {'checked': True, 'inherited': True, 'is_categorical': False, 'bad_values': '', 'nullable': 'true', 'field': 'neutrophils', 'alias': 'neutrophils', 'type': 'real', 'position': '16'}, {'checked': True, 'inherited': True, 'is_categorical': False, 'bad_values': '', 'nullable': 'true', 'field': 'sodium', 'alias': 'sodium', 'type': 'real', 'position': '17'}, {'checked': True, 'inherited': True, 'is_categorical': False, 'bad_values': '', 'nullable': 'true', 'field': 'glucose', 'alias': 'glucose', 'type': 'real', 'position': '18'}, {'checked': True, 'inherited': True, 'is_categorical': False, 'bad_values': '', 'nullable': 'true', 'field': 'bloodureanitro', 'alias': 'bloodureanitro', 'type': 'real', 'position': '19'}, {'checked': True, 'inherited': True, 'is_categorical': False, 'bad_values': '', 'nullable': 'true', 'field': 'creatinine', 'alias': 'creatinine', 'type': 'real', 'position': '20'}, {'checked': True, 'inherited': True, 'is_categorical': False, 'bad_values': '', 'nullable': 'true', 'field': 'bmi', 'alias': 'bmi', 'type': 'real', 'position': '21'}, {'checked': True, 'inherited': True, 'is_categorical': False, 'bad_values': '', 'nullable': 'true', 'field': 'pulse', 'alias': 'pulse', 'type': 'numeric', 'position': '22'}, {'checked': True, 'inherited': True, 'is_categorical': False, 'bad_values': '', 'nullable': 'true', 'field': 'respiration', 'alias': 'respiration', 'type': 'real', 'position': '23'}, {'checked': True, 'inherited': True, 'is_categorical': False, 'bad_values': '', 'nullable': 'true', 'field': 'secondarydiagnosisnonicd9', 'alias': 'secondarydiagnosisnonicd9', 'type': 'numeric', 'position': '24'}, {'checked': True, 'inherited': True, 'is_categorical': False, 'bad_values': '', 'nullable': 'true', 'field': 'facid', 'alias': 'facid', 'type': 'String', 'position': '25'}], 'server': 'https://dnm.bfirst.ai:443', 'server_url': '/nexusMax/NexusMaxPlatform/uploads/platform/', 'delimiter': ',', 'file_type': 'Delimeted', 'filename': 'hlosdatetestout.csv', 'token': '', 'domain': '', 'is_header': 'Use Header Line', 'url': '/FileStore/platform/uploadedSourceFiles/part-00000-d49e1a09-6127-45f5-8153-1809bd455c57-c000.csv', 'results_url': 'http://dnm.bfirst.ai:44040/api/read/hdfs'}\")\n",
    "\n",
    "except Exception as ex: \n",
    "\tlogging.error(ex)\n"
   ]
  }
 ],
 "metadata": {},
 "nbformat": 4,
 "nbformat_minor": 5
}
